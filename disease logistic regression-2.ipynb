{
  "nbformat": 4,
  "nbformat_minor": 0,
  "metadata": {
    "colab": {
      "provenance": []
    },
    "kernelspec": {
      "name": "python3",
      "display_name": "Python 3"
    },
    "language_info": {
      "name": "python"
    }
  },
  "cells": [
    {
      "cell_type": "markdown",
      "source": [
        "Import Required Libraries"
      ],
      "metadata": {
        "id": "_h8W-FxIXoie"
      }
    },
    {
      "cell_type": "code",
      "execution_count": 1,
      "metadata": {
        "id": "PC0ncCrNXjJF"
      },
      "outputs": [],
      "source": [
        "import pandas as pd\n",
        "from sklearn.model_selection import train_test_split\n",
        "from sklearn.linear_model import LogisticRegression\n",
        "from sklearn import metrics\n",
        "import seaborn as sns\n",
        "import matplotlib.pyplot as plt\n"
      ]
    },
    {
      "cell_type": "markdown",
      "source": [
        "Create and View the Dataset"
      ],
      "metadata": {
        "id": "wSFbthVGXuW-"
      }
    },
    {
      "cell_type": "code",
      "source": [
        "# Simulated dataset: disease susceptibility\n",
        "data = {\n",
        "    'age': [25, 45, 35, 50, 23, 40, 60, 30, 27, 55],\n",
        "    'bmi': [22.5, 30.2, 28.5, 32.1, 20.3, 27.6, 35.4, 25.1, 21.4, 31.8],\n",
        "    'glucose': [90, 150, 140, 170, 85, 130, 180, 110, 95, 160],\n",
        "    'disease': [0, 1, 1, 1, 0, 1, 1, 0, 0, 1]  # 1 = susceptible, 0 = not susceptible\n",
        "}\n",
        "\n",
        "df = pd.DataFrame(data)\n",
        "print(df.shape)\n",
        "print(df.head())\n"
      ],
      "metadata": {
        "colab": {
          "base_uri": "https://localhost:8080/"
        },
        "id": "-40pQPCfXwHO",
        "outputId": "6ca53986-f3c0-4b0e-f526-368be6717e2b"
      },
      "execution_count": 2,
      "outputs": [
        {
          "output_type": "stream",
          "name": "stdout",
          "text": [
            "(10, 4)\n",
            "   age   bmi  glucose  disease\n",
            "0   25  22.5       90        0\n",
            "1   45  30.2      150        1\n",
            "2   35  28.5      140        1\n",
            "3   50  32.1      170        1\n",
            "4   23  20.3       85        0\n"
          ]
        }
      ]
    },
    {
      "cell_type": "markdown",
      "source": [
        " Check for Missing Values"
      ],
      "metadata": {
        "id": "6rJkAL-bXzXV"
      }
    },
    {
      "cell_type": "code",
      "source": [
        "print(df.isnull().sum())\n"
      ],
      "metadata": {
        "colab": {
          "base_uri": "https://localhost:8080/"
        },
        "id": "PSGuZdotX2Z_",
        "outputId": "816521ea-da28-4821-c4dc-1bd34586081e"
      },
      "execution_count": 3,
      "outputs": [
        {
          "output_type": "stream",
          "name": "stdout",
          "text": [
            "age        0\n",
            "bmi        0\n",
            "glucose    0\n",
            "disease    0\n",
            "dtype: int64\n"
          ]
        }
      ]
    },
    {
      "cell_type": "markdown",
      "source": [
        "Define Feature Columns and Target"
      ],
      "metadata": {
        "id": "SU3JLWhvX5-t"
      }
    },
    {
      "cell_type": "code",
      "source": [
        "feature_cols = ['age', 'bmi', 'glucose']\n",
        "X = df[feature_cols]\n",
        "y = df['disease']\n"
      ],
      "metadata": {
        "id": "n1UkYAlUX5kF"
      },
      "execution_count": 4,
      "outputs": []
    },
    {
      "cell_type": "markdown",
      "source": [
        "Split the Dataset"
      ],
      "metadata": {
        "id": "RQJJNs89X_UD"
      }
    },
    {
      "cell_type": "code",
      "source": [
        "X_train, X_test, y_train, y_test = train_test_split(X, y, test_size=0.2, random_state=5)\n",
        "\n",
        "print(X_train.shape, y_train.shape, X_test.shape, y_test.shape)\n"
      ],
      "metadata": {
        "colab": {
          "base_uri": "https://localhost:8080/"
        },
        "id": "54z5lrBAYDO9",
        "outputId": "ecda2c48-042a-4afd-ca6b-c86410d58973"
      },
      "execution_count": 5,
      "outputs": [
        {
          "output_type": "stream",
          "name": "stdout",
          "text": [
            "(8, 3) (8,) (2, 3) (2,)\n"
          ]
        }
      ]
    },
    {
      "cell_type": "markdown",
      "source": [
        "Fit Logistic Regression Model"
      ],
      "metadata": {
        "id": "6KGgKpicYGnN"
      }
    },
    {
      "cell_type": "code",
      "source": [
        "model = LogisticRegression(solver='lbfgs')\n",
        "model.fit(X_train, y_train)\n",
        "y_pred = model.predict(X_test)\n"
      ],
      "metadata": {
        "id": "SnT8K-VVYG94"
      },
      "execution_count": 6,
      "outputs": []
    },
    {
      "cell_type": "markdown",
      "source": [
        "Evaluate the Model"
      ],
      "metadata": {
        "id": "2G1g63mMYOJ-"
      }
    },
    {
      "cell_type": "code",
      "source": [
        "conf_mat = metrics.confusion_matrix(y_test, y_pred)\n",
        "print(\"Confusion Matrix:\\n\", conf_mat)\n",
        "\n",
        "acc_score = metrics.accuracy_score(y_test, y_pred)\n",
        "print(\"Accuracy Score:\", acc_score)\n",
        "print(\"Accuracy Percentage:\", int(acc_score * 100), \"%\")\n"
      ],
      "metadata": {
        "colab": {
          "base_uri": "https://localhost:8080/"
        },
        "id": "ktK3HEtQYPCF",
        "outputId": "73e5ff31-bfe2-4588-9357-989f319e9c1a"
      },
      "execution_count": 7,
      "outputs": [
        {
          "output_type": "stream",
          "name": "stdout",
          "text": [
            "Confusion Matrix:\n",
            " [[2]]\n",
            "Accuracy Score: 1.0\n",
            "Accuracy Percentage: 100 %\n"
          ]
        },
        {
          "output_type": "stream",
          "name": "stderr",
          "text": [
            "/usr/local/lib/python3.11/dist-packages/sklearn/metrics/_classification.py:407: UserWarning: A single label was found in 'y_true' and 'y_pred'. For the confusion matrix to have the correct shape, use the 'labels' parameter to pass all known labels.\n",
            "  warnings.warn(\n"
          ]
        }
      ]
    },
    {
      "cell_type": "markdown",
      "source": [
        "Plot Confusion Matrix Heatmap"
      ],
      "metadata": {
        "id": "P4_lkObGYRso"
      }
    },
    {
      "cell_type": "code",
      "source": [
        "conf_df = pd.crosstab(y_test, y_pred, rownames=['Actual'], colnames=['Predicted'])\n",
        "sns.heatmap(conf_df, annot=True, cmap='YlGnBu')\n",
        "plt.title(\"Confusion Matrix: Disease Prediction\")\n",
        "plt.show()\n"
      ],
      "metadata": {
        "colab": {
          "base_uri": "https://localhost:8080/",
          "height": 472
        },
        "id": "ELgDzVCHYUNe",
        "outputId": "8ea89d11-34bd-4234-c4ec-bd1105dabf9d"
      },
      "execution_count": 8,
      "outputs": [
        {
          "output_type": "display_data",
          "data": {
            "text/plain": [
              "<Figure size 640x480 with 2 Axes>"
            ],
            "image/png": "[encoded data removed]"
          },
          "metadata": {}
        }
      ]
    }
  ]
}