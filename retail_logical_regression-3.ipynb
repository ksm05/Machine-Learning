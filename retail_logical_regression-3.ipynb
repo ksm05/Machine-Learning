{
  "nbformat": 4,
  "nbformat_minor": 0,
  "metadata": {
    "colab": {
      "provenance": []
    },
    "kernelspec": {
      "name": "python3",
      "display_name": "Python 3"
    },
    "language_info": {
      "name": "python"
    }
  },
  "cells": [
    {
      "cell_type": "markdown",
      "source": [
        "Import Required Libraries"
      ],
      "metadata": {
        "id": "ifLpYr0EZRTc"
      }
    },
    {
      "cell_type": "code",
      "execution_count": 1,
      "metadata": {
        "id": "u-hGfpsVZKt-"
      },
      "outputs": [],
      "source": [
        "import pandas as pd\n",
        "from sklearn.model_selection import train_test_split\n",
        "from sklearn.linear_model import LogisticRegression\n",
        "from sklearn import metrics\n",
        "import seaborn as sns\n",
        "import matplotlib.pyplot as plt\n"
      ]
    },
    {
      "cell_type": "markdown",
      "source": [
        "Create and View the Dataset"
      ],
      "metadata": {
        "id": "qS3JV6G8ZXhu"
      }
    },
    {
      "cell_type": "code",
      "source": [
        "# Simulated dataset: online product purchase behavior\n",
        "data = {\n",
        "    'time_on_site': [5.5, 3.2, 8.7, 1.5, 9.0, 6.4, 4.3, 7.5, 2.1, 8.0],\n",
        "    'click_rate': [0.2, 0.1, 0.5, 0.05, 0.6, 0.4, 0.2, 0.5, 0.1, 0.6],\n",
        "    'pages_viewed': [3, 1, 7, 1, 9, 5, 2, 6, 1, 8],\n",
        "    'purchase': [0, 0, 1, 0, 1, 1, 0, 1, 0, 1]  # 1 = bought, 0 = didn't buy\n",
        "}\n",
        "\n",
        "df = pd.DataFrame(data)\n",
        "print(df.shape)\n",
        "print(df.head())\n"
      ],
      "metadata": {
        "colab": {
          "base_uri": "https://localhost:8080/"
        },
        "id": "JqWU8fuLZZnp",
        "outputId": "c69429c6-2109-4587-a92c-9d3b8a133783"
      },
      "execution_count": 2,
      "outputs": [
        {
          "output_type": "stream",
          "name": "stdout",
          "text": [
            "(10, 4)\n",
            "   time_on_site  click_rate  pages_viewed  purchase\n",
            "0           5.5        0.20             3         0\n",
            "1           3.2        0.10             1         0\n",
            "2           8.7        0.50             7         1\n",
            "3           1.5        0.05             1         0\n",
            "4           9.0        0.60             9         1\n"
          ]
        }
      ]
    },
    {
      "cell_type": "markdown",
      "source": [
        "Check for Missing Values"
      ],
      "metadata": {
        "id": "T8TWGTusZb0n"
      }
    },
    {
      "cell_type": "code",
      "source": [
        "print(df.isnull().sum())\n"
      ],
      "metadata": {
        "colab": {
          "base_uri": "https://localhost:8080/"
        },
        "id": "0SiX7YagZe0d",
        "outputId": "2d06c5bf-4a06-4c72-fb62-c639b07c7ec2"
      },
      "execution_count": 3,
      "outputs": [
        {
          "output_type": "stream",
          "name": "stdout",
          "text": [
            "time_on_site    0\n",
            "click_rate      0\n",
            "pages_viewed    0\n",
            "purchase        0\n",
            "dtype: int64\n"
          ]
        }
      ]
    },
    {
      "cell_type": "markdown",
      "source": [
        "Define Feature Columns and Target"
      ],
      "metadata": {
        "id": "GK0KP7Z2ZhCt"
      }
    },
    {
      "cell_type": "code",
      "source": [
        "feature_cols = ['time_on_site', 'click_rate', 'pages_viewed']\n",
        "X = df[feature_cols]\n",
        "y = df['purchase']\n"
      ],
      "metadata": {
        "id": "1XoRB5j4Zi1W"
      },
      "execution_count": 4,
      "outputs": []
    },
    {
      "cell_type": "markdown",
      "source": [
        "Split the Dataset"
      ],
      "metadata": {
        "id": "mQOAAzaoZlJe"
      }
    },
    {
      "cell_type": "code",
      "source": [
        "X_train, X_test, y_train, y_test = train_test_split(X, y, test_size=0.2, random_state=5)\n",
        "\n",
        "print(X_train.shape, y_train.shape, X_test.shape, y_test.shape)\n"
      ],
      "metadata": {
        "colab": {
          "base_uri": "https://localhost:8080/"
        },
        "id": "eWFRy6v0ZnNO",
        "outputId": "b31ba9d9-75d5-4704-8c08-366c749cd939"
      },
      "execution_count": 5,
      "outputs": [
        {
          "output_type": "stream",
          "name": "stdout",
          "text": [
            "(8, 3) (8,) (2, 3) (2,)\n"
          ]
        }
      ]
    },
    {
      "cell_type": "markdown",
      "source": [
        "Fit Logistic Regression Model"
      ],
      "metadata": {
        "id": "Gkkfn0bPZrqO"
      }
    },
    {
      "cell_type": "code",
      "source": [
        "model = LogisticRegression(solver='lbfgs')\n",
        "model.fit(X_train, y_train)\n",
        "y_pred = model.predict(X_test)\n"
      ],
      "metadata": {
        "id": "lRTHihg5ZtMu"
      },
      "execution_count": 6,
      "outputs": []
    },
    {
      "cell_type": "markdown",
      "source": [
        "Evaluate the Model"
      ],
      "metadata": {
        "id": "x7JOE-VXZylu"
      }
    },
    {
      "cell_type": "code",
      "source": [
        "conf_mat = metrics.confusion_matrix(y_test, y_pred)\n",
        "print(\"Confusion Matrix:\\n\", conf_mat)\n",
        "\n",
        "acc_score = metrics.accuracy_score(y_test, y_pred)\n",
        "print(\"Accuracy Score:\", acc_score)\n",
        "print(\"Accuracy Percentage:\", int(acc_score * 100), \"%\")\n"
      ],
      "metadata": {
        "colab": {
          "base_uri": "https://localhost:8080/"
        },
        "id": "T07e0PJwZzpv",
        "outputId": "152e4767-6a54-4612-ffca-be40c0fda5f7"
      },
      "execution_count": 7,
      "outputs": [
        {
          "output_type": "stream",
          "name": "stdout",
          "text": [
            "Confusion Matrix:\n",
            " [[2]]\n",
            "Accuracy Score: 1.0\n",
            "Accuracy Percentage: 100 %\n"
          ]
        },
        {
          "output_type": "stream",
          "name": "stderr",
          "text": [
            "/usr/local/lib/python3.11/dist-packages/sklearn/metrics/_classification.py:407: UserWarning: A single label was found in 'y_true' and 'y_pred'. For the confusion matrix to have the correct shape, use the 'labels' parameter to pass all known labels.\n",
            "  warnings.warn(\n"
          ]
        }
      ]
    },
    {
      "cell_type": "markdown",
      "source": [
        "Plot Confusion Matrix Heatmap"
      ],
      "metadata": {
        "id": "lTT6o__0Z5Ct"
      }
    },
    {
      "cell_type": "code",
      "source": [
        "conf_df = pd.crosstab(y_test, y_pred, rownames=['Actual'], colnames=['Predicted'])\n",
        "sns.heatmap(conf_df, annot=True, cmap='Oranges')\n",
        "plt.title(\"Confusion Matrix: Product Purchase Prediction\")\n",
        "plt.show()\n"
      ],
      "metadata": {
        "colab": {
          "base_uri": "https://localhost:8080/",
          "height": 472
        },
        "id": "qf-6mk5JZ5zu",
        "outputId": "493a82fd-b9a4-49c4-a30e-d79b70a6a134"
      },
      "execution_count": 8,
      "outputs": [
        {
          "output_type": "display_data",
          "data": {
            "text/plain": [
              "<Figure size 640x480 with 2 Axes>"
            ],
            "image/png": "[encoded data removed]"
          },
          "metadata": {}
        }
      ]
    }
  ]
}