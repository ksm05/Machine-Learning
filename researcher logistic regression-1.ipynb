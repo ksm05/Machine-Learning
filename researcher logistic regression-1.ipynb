{
  "nbformat": 4,
  "nbformat_minor": 0,
  "metadata": {
    "colab": {
      "provenance": []
    },
    "kernelspec": {
      "name": "python3",
      "display_name": "Python 3"
    },
    "language_info": {
      "name": "python"
    }
  },
  "cells": [
    {
      "cell_type": "markdown",
      "source": [
        "Import Required Libraries"
      ],
      "metadata": {
        "id": "Aty_f271VKr3"
      }
    },
    {
      "cell_type": "code",
      "execution_count": 1,
      "metadata": {
        "id": "dfbh_nrdUWl7"
      },
      "outputs": [],
      "source": [
        "import pandas as pd\n",
        "from sklearn.model_selection import train_test_split\n",
        "from sklearn.linear_model import LogisticRegression\n",
        "from sklearn import metrics\n",
        "import seaborn as sns\n",
        "import matplotlib.pyplot as plt"
      ]
    },
    {
      "cell_type": "markdown",
      "source": [
        "Read the Dataset from the Web"
      ],
      "metadata": {
        "id": "8-aTrSPIVNci"
      }
    },
    {
      "cell_type": "code",
      "source": [
        "# Correct raw URL to read directly from the internet\n",
        "url = 'https://stats.idre.ucla.edu/stat/stata/dae/binary.dta'\n",
        "df = pd.read_stata(url)\n",
        "\n",
        "# Check the shape and a preview of the dataset\n",
        "print(df.shape)\n",
        "print(df.head())\n"
      ],
      "metadata": {
        "colab": {
          "base_uri": "https://localhost:8080/"
        },
        "id": "O2VGblV8VGZS",
        "outputId": "909874e5-d53d-41de-bdfc-de52874d00d2"
      },
      "execution_count": 4,
      "outputs": [
        {
          "output_type": "stream",
          "name": "stdout",
          "text": [
            "(400, 4)\n",
            "   admit    gre   gpa  rank\n",
            "0    0.0  380.0  3.61   3.0\n",
            "1    1.0  660.0  3.67   3.0\n",
            "2    1.0  800.0  4.00   1.0\n",
            "3    1.0  640.0  3.19   4.0\n",
            "4    0.0  520.0  2.93   4.0\n"
          ]
        }
      ]
    },
    {
      "cell_type": "markdown",
      "source": [
        "Check for Missing Values"
      ],
      "metadata": {
        "id": "vZRQUsiKVWL-"
      }
    },
    {
      "cell_type": "code",
      "source": [
        "print(df.isnull().sum())\n"
      ],
      "metadata": {
        "colab": {
          "base_uri": "https://localhost:8080/"
        },
        "id": "wLNVVWJjVYDY",
        "outputId": "13c245ca-4027-4440-acdf-ad6b72f514a7"
      },
      "execution_count": 5,
      "outputs": [
        {
          "output_type": "stream",
          "name": "stdout",
          "text": [
            "admit    0\n",
            "gre      0\n",
            "gpa      0\n",
            "rank     0\n",
            "dtype: int64\n"
          ]
        }
      ]
    },
    {
      "cell_type": "markdown",
      "source": [
        "Define Feature Columns and Target"
      ],
      "metadata": {
        "id": "fBctxHY6Vbl-"
      }
    },
    {
      "cell_type": "code",
      "source": [
        "# Independent variables (features)\n",
        "feature_cols = ['gre', 'gpa', 'rank']\n",
        "\n",
        "# Target variable\n",
        "X = df[feature_cols]\n",
        "y = df['admit']\n"
      ],
      "metadata": {
        "id": "kqbCeLVJVkAd"
      },
      "execution_count": 6,
      "outputs": []
    },
    {
      "cell_type": "markdown",
      "source": [
        " Split the Dataset"
      ],
      "metadata": {
        "id": "e4xZZ0BwVpTw"
      }
    },
    {
      "cell_type": "code",
      "source": [
        "X_train, X_test, y_train, y_test = train_test_split(X, y, test_size=0.2, random_state=5)\n",
        "\n",
        "print(X_train.shape, y_train.shape, X_test.shape, y_test.shape)\n"
      ],
      "metadata": {
        "colab": {
          "base_uri": "https://localhost:8080/"
        },
        "id": "6kssIkL6VqKl",
        "outputId": "7c379d03-366d-4da9-c6c3-bcf0410c64b2"
      },
      "execution_count": 7,
      "outputs": [
        {
          "output_type": "stream",
          "name": "stdout",
          "text": [
            "(320, 3) (320,) (80, 3) (80,)\n"
          ]
        }
      ]
    },
    {
      "cell_type": "markdown",
      "source": [
        "Fit Logistic Regression Model"
      ],
      "metadata": {
        "id": "_JLxbfQzVtwP"
      }
    },
    {
      "cell_type": "code",
      "source": [
        "model = LogisticRegression(solver='lbfgs', max_iter=1000)\n",
        "model.fit(X_train, y_train)\n",
        "y_pred = model.predict(X_test)\n"
      ],
      "metadata": {
        "id": "GB6DkY7lVyyu"
      },
      "execution_count": 8,
      "outputs": []
    },
    {
      "cell_type": "markdown",
      "source": [
        "Evaluate the Model"
      ],
      "metadata": {
        "id": "oobVzyGOV1--"
      }
    },
    {
      "cell_type": "code",
      "source": [
        "# Confusion Matrix\n",
        "conf_mat = metrics.confusion_matrix(y_test, y_pred)\n",
        "print(\"Confusion Matrix:\\n\", conf_mat)\n",
        "\n",
        "# Accuracy Score\n",
        "acc_score = metrics.accuracy_score(y_test, y_pred)\n",
        "print(\"Accuracy Score:\", acc_score)\n",
        "print(\"Accuracy Percentage:\", int(acc_score * 100), \"%\")\n"
      ],
      "metadata": {
        "colab": {
          "base_uri": "https://localhost:8080/"
        },
        "id": "sZzX001jV2ax",
        "outputId": "e189d207-832f-4ffe-f942-96642ee42ba7"
      },
      "execution_count": 9,
      "outputs": [
        {
          "output_type": "stream",
          "name": "stdout",
          "text": [
            "Confusion Matrix:\n",
            " [[50  4]\n",
            " [23  3]]\n",
            "Accuracy Score: 0.6625\n",
            "Accuracy Percentage: 66 %\n"
          ]
        }
      ]
    },
    {
      "cell_type": "markdown",
      "source": [
        "Plot Heatmap of Confusion Matrix"
      ],
      "metadata": {
        "id": "pCII0oGNV-Q2"
      }
    },
    {
      "cell_type": "code",
      "source": [
        "conf_df = pd.crosstab(y_test, y_pred, rownames=['Actual'], colnames=['Predicted'])\n",
        "sns.heatmap(conf_df, annot=True, cmap='Blues')\n",
        "plt.title(\"Confusion Matrix Heatmap\")\n",
        "plt.show()\n"
      ],
      "metadata": {
        "colab": {
          "base_uri": "https://localhost:8080/",
          "height": 472
        },
        "id": "9VwiKjAUV_RF",
        "outputId": "729f33e8-9c4c-46cc-d275-f1fffce9eb96"
      },
      "execution_count": 10,
      "outputs": [
        {
          "output_type": "display_data",
          "data": {
            "text/plain": [
              "<Figure size 640x480 with 2 Axes>"
            ],
            "image/png": "[encoded data removed]"
          },
          "metadata": {}
        }
      ]
    }
  ]
}